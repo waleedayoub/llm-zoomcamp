{
 "cells": [
  {
   "cell_type": "markdown",
   "metadata": {},
   "source": [
    "## Homework: LLM Orchestration and Ingestion\n",
    "\n",
    "> It's possible that your answers won't match exactly. If it's the case, select the closest one.\n",
    "\n",
    "Our FAQ documents change with time: students add more records\n",
    "and edit existing ones. We need to keep our index in sync.\n",
    "\n",
    "There are two ways of doing it:\n",
    "\n",
    "1. Incremental: you only update records that got changed, created or deleted\n",
    "2. Full update: you recreate the entire index from scratch\n",
    "\n",
    "In this homework, we'll look at full update. We will run our \n",
    "indexing pipeline daily and re-create the index from scracth \n",
    "each time we run. \n",
    "\n",
    "\n",
    "For that, we created two FAQ documents for LLM Zoomcamp\n",
    "\n",
    "* [version 1](https://docs.google.com/document/d/1qZjwHkvP0lXHiE4zdbWyUXSVfmVGzougDD6N37bat3E/edit)\n",
    "* [version 2](https://docs.google.com/document/d/1T3MdwUvqCL3jrh3d3VCXQ8xE0UqRzI3bfgpfBq3ZWG0/edit)\n",
    "\n",
    "First, we will run our ingestion pipeline with version 1 \n",
    "and then with version 2."
   ]
  },
  {
   "cell_type": "markdown",
   "metadata": {},
   "source": [
    "## Q1. Running Mage\n",
    "\n",
    "Clone the same repo we used in the module and run mage:\n",
    "\n",
    "\n",
    "```bash\n",
    "git clone https://github.com/mage-ai/rag-project\n",
    "```\n",
    "\n",
    "Add the following libraries to the requirements document:\n",
    "\n",
    "```\n",
    "python-docx\n",
    "elasticsearch\n",
    "```\n",
    "\n",
    "Make sure you use the latest version of mage:\n",
    "\n",
    "```bash\n",
    "docker pull mageai/mageai:llm\n",
    "```\n",
    "\n",
    "Start it:\n",
    "\n",
    "```bash\n",
    "./scripts/start.sh\n",
    "```\n",
    "\n",
    "Now mage is running on [http://localhost:6789/](http://localhost:6789/)\n",
    "\n",
    "What's the version of mage? "
   ]
  },
  {
   "cell_type": "code",
   "execution_count": null,
   "metadata": {
    "vscode": {
     "languageId": "plaintext"
    }
   },
   "outputs": [],
   "source": []
  },
  {
   "cell_type": "markdown",
   "metadata": {},
   "source": [
    "## Creating a RAG pipeline\n",
    "\n",
    "Create a RAG pipeline\n",
    "\n",
    "\n",
    "## Q2. Reading the documents\n",
    "\n",
    "Now we can ingest the documents. Create a custom code ingestion\n",
    "block \n",
    "\n",
    "Let's read the documents. We will use the same code we used\n",
    "for parsing FAQ: [parse-faq-llm.ipynb](parse-faq-llm.ipynb)\n",
    "\n",
    "\n",
    "Use the following document_id: 1qZjwHkvP0lXHiE4zdbWyUXSVfmVGzougDD6N37bat3E\n",
    "\n",
    "Which is the document ID of\n",
    "[LLM FAQ version 1](https://docs.google.com/document/d/1qZjwHkvP0lXHiE4zdbWyUXSVfmVGzougDD6N37bat3E/edit)\n",
    "\n",
    "Copy the code to the editor\n",
    "How many FAQ documents we processed?\n",
    "\n",
    "* 1\n",
    "* 2\n",
    "* 3\n",
    "* 4"
   ]
  }
 ],
 "metadata": {
  "language_info": {
   "name": "python"
  }
 },
 "nbformat": 4,
 "nbformat_minor": 2
}
