{
 "cells": [
  {
   "cell_type": "markdown",
   "metadata": {},
   "source": [
    "# LLM Zoomcamp - Week 2 Notes\n",
    "\n",
    "In the second week, we set up cloud-based GPU options like SaturnCloud and explore open source alternatives to OpenAI platforms and  models like:\n",
    "Platforms:\n",
    "- HuggingFace\n",
    "- Ollama\n",
    "- SaturnCloud\n",
    "\n",
    "Models:\n",
    "- Google FLAN T5\n",
    "- Phi 3 Mini\n",
    "- Mistral 7-B\n",
    "\n",
    "And finally, we put the RAG we built in week 1 into a Streamlit UI\n",
    "\n",
    "A few important call outs for this section:\n",
    "- For the most part, I will be taking these notes in a Saturn Cloud notebook\n",
    "- Which means that before starting each note section, I will be restarting the kernel to free up RAM from the GPU I'm using\n",
    "- So if I ever decide to revisit these notes in the future, I won't be able to just load this notebook and run things as is"
   ]
  },
  {
   "cell_type": "code",
   "execution_count": 1,
   "metadata": {
    "execution": {
     "iopub.execute_input": "2024-07-08T00:59:35.768559Z",
     "iopub.status.busy": "2024-07-08T00:59:35.767964Z",
     "iopub.status.idle": "2024-07-08T00:59:35.822597Z",
     "shell.execute_reply": "2024-07-08T00:59:35.822020Z",
     "shell.execute_reply.started": "2024-07-08T00:59:35.768518Z"
    },
    "tags": []
   },
   "outputs": [],
   "source": [
    "import os\n",
    "import requests"
   ]
  },
  {
   "cell_type": "markdown",
   "metadata": {},
   "source": [
    "## 2.2 Using SaturnCloud for GPU Notebooks\n",
    "- The main thing not covered is how to give Saturn Cloud access to your GitHub repositories\n",
    "    - This is fairly straightforward:\n",
    "        1. In Saturn Cloud, go to \"Manage <username>\" and create an SSH key pair\n",
    "        2. Copy the public key Saturn Cloud generates and go to Github.com\n",
    "            i. In Github.com, go to Settings -> SSH and GPG keys and click on `New SSH Key`\n",
    "            ii. Paste in the public key you copied from Saturn Cloud\n",
    "        3. Now go back to Saturn Cloud and click on `Git Repositories`\n",
    "            i. Click on `New`\n",
    "            ii. Add the url for the Github repository you want Saturn Cloud to have access to\n",
    "- When creating a new Python VM resource, make sure to install additional libs: `pip install -U transformers accelerate bitsandbytes`\n",
    "- The rest of it is quite straightforward\n",
    "- A few things I did with my setup of the notebook resource that just helps with development:\n",
    "    1. I enabled SSH access so that I can ideally connect to this notebook resource in VS Code (and thus take advantange of many things including Github Copilot)\n",
    "    2. I gave the VM an easy to remember name: https://llm-zoomcamp-waleed.community.saturnenterprise.io\n",
    "    3. I created an access token on huggingface.co and added it as an environment variable on Saturn Cloud (more on that in section 2.5)"
   ]
  },
  {
   "cell_type": "markdown",
   "metadata": {},
   "source": [
    "## 2.3 HuggingFace and Google FLAN T5\n",
    "\n",
    "- In this lesson, we start working with open source models available on [HuggingFace](huggingface.co)\n",
    "    - HuggingFace is a place where people host models, not just LLMs, all kinds of ML models (which effectively boils down to hosting model weights)\n",
    "- This is where our Saturn Cloud GPU notebook in 2.2 comes into play as we'll need a GPU to work with these models\n",
    "- We're going to be using Google FLAN T5: https://huggingface.co/google/flan-t5-xl"
   ]
  },
  {
   "cell_type": "markdown",
   "metadata": {},
   "source": [
    "Let's start by pulling in the minsearch engine we're going to use in our RAG"
   ]
  },
  {
   "cell_type": "code",
   "execution_count": 8,
   "metadata": {
    "execution": {
     "iopub.execute_input": "2024-07-08T01:20:40.059083Z",
     "iopub.status.busy": "2024-07-08T01:20:40.058624Z",
     "iopub.status.idle": "2024-07-08T01:20:41.387295Z",
     "shell.execute_reply": "2024-07-08T01:20:41.386506Z",
     "shell.execute_reply.started": "2024-07-08T01:20:40.059046Z"
    },
    "tags": []
   },
   "outputs": [
    {
     "name": "stdout",
     "output_type": "stream",
     "text": [
      "--2024-07-08 01:20:41--  https://raw.githubusercontent.com/alexeygrigorev/minsearch/main/minsearch.py\n",
      "Resolving raw.githubusercontent.com (raw.githubusercontent.com)... 185.199.111.133, 185.199.110.133, 185.199.108.133, ...\n",
      "Connecting to raw.githubusercontent.com (raw.githubusercontent.com)|185.199.111.133|:443... connected.\n",
      "HTTP request sent, awaiting response... 200 OK\n",
      "Length: 3832 (3.7K) [text/plain]\n",
      "Saving to: ‘minsearch.py’\n",
      "\n",
      "minsearch.py        100%[===================>]   3.74K  --.-KB/s    in 0s      \n",
      "\n",
      "2024-07-08 01:20:41 (83.2 MB/s) - ‘minsearch.py’ saved [3832/3832]\n",
      "\n"
     ]
    }
   ],
   "source": [
    "!rm -f minsearch.py\n",
    "!wget https://raw.githubusercontent.com/alexeygrigorev/minsearch/main/minsearch.py"
   ]
  },
  {
   "cell_type": "markdown",
   "metadata": {},
   "source": [
    "From the link above, we have some reference code to run the model on a GPU:"
   ]
  },
  {
   "cell_type": "markdown",
   "metadata": {},
   "source": [
    "```python\n",
    "# pip install accelerate\n",
    "from transformers import T5Tokenizer, T5ForConditionalGeneration\n",
    "\n",
    "# Import a tokenizer to convert text to tokens\n",
    "tokenizer = T5Tokenizer.from_pretrained(\"google/flan-t5-xl\")\n",
    "# Load the model\n",
    "model = T5ForConditionalGeneration.from_pretrained(\"google/flan-t5-xl\", device_map=\"auto\")\n",
    "\n",
    "input_text = \"translate English to German: How old are you?\"\n",
    "input_ids = tokenizer(input_text, return_tensors=\"pt\").input_ids.to(\"cuda\")\n",
    "\n",
    "outputs = model.generate(input_ids)\n",
    "print(tokenizer.decode(outputs[0]))\n",
    "```"
   ]
  },
  {
   "cell_type": "markdown",
   "metadata": {},
   "source": [
    "- An important consideration is how Saturn Cloud provisions storage\n",
    "    - By default, HuggingFace wants to use a /cache subdirectory within the /home directory in your Saturn Cloud environment\n",
    "        - You can change this by setting the `HF_HOME` environment variable\n",
    "        - A better way to do this would be to set it using `direnv` (helpful blog post on that [here](https://waleedayoub.com/post/managing-dev-environments_local-vs-codespaces/#option-2-github-codespaces))\n",
    "    ```python\n",
    "    import os\n",
    "    os.environ['HF_HOME']='/run/cache'import os\n",
    "    os.environ['HF_HOME']='/run/cache'\n",
    "    ```\n",
    "    - The main change we make to our original FAQ answering RAG is the `def llm(query):` function\n",
    "    ```python\n",
    "    def llm(prompt):\n",
    "        input_text = prompt\n",
    "        input_ids = tokenizer(input_text, return_tensors=\"pt\").input_ids.to(\"cuda\")\n",
    "        outputs = model.generate(input_ids)\n",
    "        results = tokenizer.decode(outputs[0])\n",
    "        \n",
    "        return results\n",
    "    ```\n",
    "    - By default, FLAN T5's `generate` method caps the length of the response. You can actually check what the max length is with this:\n",
    "    ```python\n",
    "    print(f\"Default max_length: {model.config.max_length}\")\n",
    "    ```\n",
    "    - This returns: Default max_length: 20\n",
    "    - So this can easily be changed when calling the `generate` method like this:\n",
    "    ```python\n",
    "    outputs = model.generate(input_ids, max_length=200)\n",
    "    ```\n",
    "    - Another useful parameter to the `decode` method is passing `skip_special_tokens` which seems to get rid of the padding leading and trailing tokens\n",
    "    ```python\n",
    "    results = tokenizer.decode(outputs[0], skip_special_tokens=True)\n",
    "    ```    "
   ]
  },
  {
   "cell_type": "markdown",
   "metadata": {},
   "source": [
    "### So let's put it all together now and modify our RAG from section 1 to use FLAN T5!"
   ]
  },
  {
   "cell_type": "code",
   "execution_count": 2,
   "metadata": {
    "execution": {
     "iopub.execute_input": "2024-07-08T00:59:42.718772Z",
     "iopub.status.busy": "2024-07-08T00:59:42.718401Z",
     "iopub.status.idle": "2024-07-08T00:59:42.722123Z",
     "shell.execute_reply": "2024-07-08T00:59:42.721371Z",
     "shell.execute_reply.started": "2024-07-08T00:59:42.718748Z"
    },
    "tags": []
   },
   "outputs": [],
   "source": [
    "import os\n",
    "os.environ['HF_HOME']='/run/cache'"
   ]
  },
  {
   "cell_type": "code",
   "execution_count": 3,
   "metadata": {
    "execution": {
     "iopub.execute_input": "2024-07-07T11:17:11.112405Z",
     "iopub.status.busy": "2024-07-07T11:17:11.112048Z",
     "iopub.status.idle": "2024-07-07T11:17:16.376233Z",
     "shell.execute_reply": "2024-07-07T11:17:16.375524Z",
     "shell.execute_reply.started": "2024-07-07T11:17:11.112381Z"
    },
    "tags": []
   },
   "outputs": [],
   "source": [
    "from transformers import T5Tokenizer, T5ForConditionalGeneration"
   ]
  },
  {
   "cell_type": "code",
   "execution_count": 4,
   "metadata": {
    "execution": {
     "iopub.execute_input": "2024-07-07T11:17:33.342426Z",
     "iopub.status.busy": "2024-07-07T11:17:33.341939Z",
     "iopub.status.idle": "2024-07-07T11:19:56.807187Z",
     "shell.execute_reply": "2024-07-07T11:19:56.806580Z",
     "shell.execute_reply.started": "2024-07-07T11:17:33.342372Z"
    },
    "tags": []
   },
   "outputs": [
    {
     "data": {
      "application/vnd.jupyter.widget-view+json": {
       "model_id": "b32e87326ff143b5b128ae8c700fed60",
       "version_major": 2,
       "version_minor": 0
      },
      "text/plain": [
       "tokenizer_config.json:   0%|          | 0.00/2.54k [00:00<?, ?B/s]"
      ]
     },
     "metadata": {},
     "output_type": "display_data"
    },
    {
     "data": {
      "application/vnd.jupyter.widget-view+json": {
       "model_id": "f101e8023f0b46598b5696d4cd2d6cdc",
       "version_major": 2,
       "version_minor": 0
      },
      "text/plain": [
       "spiece.model:   0%|          | 0.00/792k [00:00<?, ?B/s]"
      ]
     },
     "metadata": {},
     "output_type": "display_data"
    },
    {
     "data": {
      "application/vnd.jupyter.widget-view+json": {
       "model_id": "0fabe786b5d24d4092f08c7bca7fbd36",
       "version_major": 2,
       "version_minor": 0
      },
      "text/plain": [
       "special_tokens_map.json:   0%|          | 0.00/2.20k [00:00<?, ?B/s]"
      ]
     },
     "metadata": {},
     "output_type": "display_data"
    },
    {
     "data": {
      "application/vnd.jupyter.widget-view+json": {
       "model_id": "7c08cdd6155743b59da2e6b5c8f332b1",
       "version_major": 2,
       "version_minor": 0
      },
      "text/plain": [
       "tokenizer.json:   0%|          | 0.00/2.42M [00:00<?, ?B/s]"
      ]
     },
     "metadata": {},
     "output_type": "display_data"
    },
    {
     "name": "stderr",
     "output_type": "stream",
     "text": [
      "You are using the default legacy behaviour of the <class 'transformers.models.t5.tokenization_t5.T5Tokenizer'>. This is expected, and simply means that the `legacy` (previous) behavior will be used so nothing changes for you. If you want to use the new behaviour, set `legacy=False`. This should only be set if you understand what it means, and thoroughly read the reason why this was added as explained in https://github.com/huggingface/transformers/pull/24565\n",
      "Special tokens have been added in the vocabulary, make sure the associated word embeddings are fine-tuned or trained.\n"
     ]
    },
    {
     "data": {
      "application/vnd.jupyter.widget-view+json": {
       "model_id": "bca92dd25f244d9c9b55b68d8bc53058",
       "version_major": 2,
       "version_minor": 0
      },
      "text/plain": [
       "config.json:   0%|          | 0.00/1.44k [00:00<?, ?B/s]"
      ]
     },
     "metadata": {},
     "output_type": "display_data"
    },
    {
     "data": {
      "application/vnd.jupyter.widget-view+json": {
       "model_id": "48d33e4ba6324bd49e31fa0eefed47f5",
       "version_major": 2,
       "version_minor": 0
      },
      "text/plain": [
       "model.safetensors.index.json:   0%|          | 0.00/53.0k [00:00<?, ?B/s]"
      ]
     },
     "metadata": {},
     "output_type": "display_data"
    },
    {
     "data": {
      "application/vnd.jupyter.widget-view+json": {
       "model_id": "640e366774d4473c89e91d59efdc30ba",
       "version_major": 2,
       "version_minor": 0
      },
      "text/plain": [
       "Downloading shards:   0%|          | 0/2 [00:00<?, ?it/s]"
      ]
     },
     "metadata": {},
     "output_type": "display_data"
    },
    {
     "data": {
      "application/vnd.jupyter.widget-view+json": {
       "model_id": "ebbec9e945774079b7f897d1959a20e6",
       "version_major": 2,
       "version_minor": 0
      },
      "text/plain": [
       "model-00001-of-00002.safetensors:   0%|          | 0.00/9.45G [00:00<?, ?B/s]"
      ]
     },
     "metadata": {},
     "output_type": "display_data"
    },
    {
     "data": {
      "application/vnd.jupyter.widget-view+json": {
       "model_id": "f15c7571401d4dcda3b4e70c972fdfc0",
       "version_major": 2,
       "version_minor": 0
      },
      "text/plain": [
       "model-00002-of-00002.safetensors:   0%|          | 0.00/1.95G [00:00<?, ?B/s]"
      ]
     },
     "metadata": {},
     "output_type": "display_data"
    },
    {
     "data": {
      "application/vnd.jupyter.widget-view+json": {
       "model_id": "2723f473303d42b6a3178b3987a415c7",
       "version_major": 2,
       "version_minor": 0
      },
      "text/plain": [
       "Loading checkpoint shards:   0%|          | 0/2 [00:00<?, ?it/s]"
      ]
     },
     "metadata": {},
     "output_type": "display_data"
    },
    {
     "data": {
      "application/vnd.jupyter.widget-view+json": {
       "model_id": "21f58e0d16bc45f1a6e7bbd27bfb2d61",
       "version_major": 2,
       "version_minor": 0
      },
      "text/plain": [
       "generation_config.json:   0%|          | 0.00/147 [00:00<?, ?B/s]"
      ]
     },
     "metadata": {},
     "output_type": "display_data"
    }
   ],
   "source": [
    "# Import a tokenizer to convert text to tokens\n",
    "tokenizer = T5Tokenizer.from_pretrained(\"google/flan-t5-xl\")\n",
    "# Load the model\n",
    "model = T5ForConditionalGeneration.from_pretrained(\"google/flan-t5-xl\", device_map=\"auto\")"
   ]
  },
  {
   "cell_type": "code",
   "execution_count": 5,
   "metadata": {
    "execution": {
     "iopub.execute_input": "2024-07-07T11:19:56.808567Z",
     "iopub.status.busy": "2024-07-07T11:19:56.808295Z",
     "iopub.status.idle": "2024-07-07T11:19:56.813141Z",
     "shell.execute_reply": "2024-07-07T11:19:56.812288Z",
     "shell.execute_reply.started": "2024-07-07T11:19:56.808545Z"
    },
    "tags": []
   },
   "outputs": [],
   "source": [
    "input_text = \"translate English to German: How old are you?\"\n",
    "input_ids = tokenizer(input_text, return_tensors=\"pt\").input_ids.to(\"cuda\")"
   ]
  },
  {
   "cell_type": "code",
   "execution_count": 6,
   "metadata": {
    "execution": {
     "iopub.execute_input": "2024-07-07T11:20:02.675624Z",
     "iopub.status.busy": "2024-07-07T11:20:02.674954Z",
     "iopub.status.idle": "2024-07-07T11:20:02.685473Z",
     "shell.execute_reply": "2024-07-07T11:20:02.684797Z",
     "shell.execute_reply.started": "2024-07-07T11:20:02.675594Z"
    },
    "tags": []
   },
   "outputs": [
    {
     "name": "stdout",
     "output_type": "stream",
     "text": [
      "tensor([[13959,  1566,    12,  2968,    10,   571,   625,    33,    25,    58,\n",
      "             1]], device='cuda:0')\n"
     ]
    }
   ],
   "source": [
    "print(input_ids)"
   ]
  },
  {
   "cell_type": "code",
   "execution_count": 7,
   "metadata": {
    "execution": {
     "iopub.execute_input": "2024-07-07T11:20:10.108471Z",
     "iopub.status.busy": "2024-07-07T11:20:10.107795Z",
     "iopub.status.idle": "2024-07-07T11:20:12.058214Z",
     "shell.execute_reply": "2024-07-07T11:20:12.057399Z",
     "shell.execute_reply.started": "2024-07-07T11:20:10.108442Z"
    },
    "tags": []
   },
   "outputs": [
    {
     "name": "stderr",
     "output_type": "stream",
     "text": [
      "/opt/saturncloud/envs/saturn/lib/python3.9/site-packages/transformers/generation/utils.py:1249: UserWarning: Using the model-agnostic default `max_length` (=20) to control the generation length. We recommend setting `max_new_tokens` to control the maximum length of the generation.\n",
      "  warnings.warn(\n"
     ]
    },
    {
     "name": "stdout",
     "output_type": "stream",
     "text": [
      "tensor([[   0, 2739, 4445,  436,  292,   58,    1]], device='cuda:0')\n",
      "<pad> Wie alt sind Sie?</s>\n"
     ]
    }
   ],
   "source": [
    "outputs = model.generate(input_ids)\n",
    "print(outputs)\n",
    "print(tokenizer.decode(outputs[0]))"
   ]
  },
  {
   "cell_type": "markdown",
   "metadata": {},
   "source": [
    "### Now we do the same RAG as before but we modify the llm function to use our local FLAN T5 weights vs an OpenAI API call"
   ]
  },
  {
   "cell_type": "code",
   "execution_count": 9,
   "metadata": {
    "execution": {
     "iopub.execute_input": "2024-07-08T01:20:54.704422Z",
     "iopub.status.busy": "2024-07-08T01:20:54.703998Z",
     "iopub.status.idle": "2024-07-08T01:20:58.281979Z",
     "shell.execute_reply": "2024-07-08T01:20:58.280935Z",
     "shell.execute_reply.started": "2024-07-08T01:20:54.704396Z"
    },
    "tags": []
   },
   "outputs": [
    {
     "data": {
      "text/plain": [
       "<minsearch.Index at 0x7f69146b9940>"
      ]
     },
     "execution_count": 9,
     "metadata": {},
     "output_type": "execute_result"
    }
   ],
   "source": [
    "import requests \n",
    "import minsearch\n",
    "\n",
    "docs_url = 'https://github.com/DataTalksClub/llm-zoomcamp/blob/main/01-intro/documents.json?raw=1'\n",
    "docs_response = requests.get(docs_url)\n",
    "documents_raw = docs_response.json()\n",
    "\n",
    "documents = []\n",
    "\n",
    "for course in documents_raw:\n",
    "    course_name = course['course']\n",
    "\n",
    "    for doc in course['documents']:\n",
    "        doc['course'] = course_name\n",
    "        documents.append(doc)\n",
    "\n",
    "index = minsearch.Index(\n",
    "    text_fields=[\"question\", \"text\", \"section\"],\n",
    "    keyword_fields=[\"course\"]\n",
    ")\n",
    "\n",
    "index.fit(documents)"
   ]
  },
  {
   "cell_type": "code",
   "execution_count": 9,
   "metadata": {
    "execution": {
     "iopub.execute_input": "2024-07-07T11:20:37.743414Z",
     "iopub.status.busy": "2024-07-07T11:20:37.742934Z",
     "iopub.status.idle": "2024-07-07T11:20:37.747419Z",
     "shell.execute_reply": "2024-07-07T11:20:37.746770Z",
     "shell.execute_reply.started": "2024-07-07T11:20:37.743389Z"
    },
    "tags": []
   },
   "outputs": [],
   "source": [
    "def search(query):\n",
    "    boost = {'question': 3.0, 'section': 0.5}\n",
    "\n",
    "    results = index.search(\n",
    "        query=query,\n",
    "        filter_dict={'course': 'data-engineering-zoomcamp'},\n",
    "        boost_dict=boost,\n",
    "        num_results=5\n",
    "    )\n",
    "\n",
    "    return results"
   ]
  },
  {
   "cell_type": "code",
   "execution_count": 10,
   "metadata": {
    "execution": {
     "iopub.execute_input": "2024-07-07T11:20:49.329303Z",
     "iopub.status.busy": "2024-07-07T11:20:49.328927Z",
     "iopub.status.idle": "2024-07-07T11:20:49.334932Z",
     "shell.execute_reply": "2024-07-07T11:20:49.334130Z",
     "shell.execute_reply.started": "2024-07-07T11:20:49.329276Z"
    },
    "tags": []
   },
   "outputs": [],
   "source": [
    "def build_prompt(query, search_results):\n",
    "    prompt_template = \"\"\"\n",
    "You're a course teaching assistant. Answer the QUESTION based on the CONTEXT from the FAQ database.\n",
    "Use only the facts from the CONTEXT when answering the QUESTION.\n",
    "\n",
    "QUESTION: {question}\n",
    "\n",
    "CONTEXT: \n",
    "{context}\n",
    "\"\"\".strip()\n",
    "\n",
    "    context = \"\"\n",
    "    \n",
    "    for doc in search_results:\n",
    "        context = context + f\"section: {doc['section']}\\nquestion: {doc['question']}\\nanswer: {doc['text']}\\n\\n\"\n",
    "    \n",
    "    prompt = prompt_template.format(question=query, context=context).strip()\n",
    "    return prompt\n",
    "\n",
    "def llm(prompt):\n",
    "    input_text = prompt\n",
    "    input_ids = tokenizer(input_text, return_tensors=\"pt\").input_ids.to(\"cuda\")\n",
    "    outputs = model.generate(input_ids, max_length=200)\n",
    "    results = tokenizer.decode(outputs[0])\n",
    "    \n",
    "    return results"
   ]
  },
  {
   "cell_type": "code",
   "execution_count": 14,
   "metadata": {
    "execution": {
     "iopub.execute_input": "2024-07-08T01:28:26.844269Z",
     "iopub.status.busy": "2024-07-08T01:28:26.843584Z",
     "iopub.status.idle": "2024-07-08T01:28:26.847996Z",
     "shell.execute_reply": "2024-07-08T01:28:26.847193Z",
     "shell.execute_reply.started": "2024-07-08T01:28:26.844237Z"
    },
    "tags": []
   },
   "outputs": [],
   "source": [
    "def rag(query):\n",
    "    search_results = search(query)\n",
    "    prompt = build_prompt(query, search_results)\n",
    "    answer = llm(prompt)\n",
    "    return answer"
   ]
  },
  {
   "cell_type": "code",
   "execution_count": 12,
   "metadata": {
    "execution": {
     "iopub.execute_input": "2024-07-07T11:20:55.807389Z",
     "iopub.status.busy": "2024-07-07T11:20:55.807007Z",
     "iopub.status.idle": "2024-07-07T11:20:57.719593Z",
     "shell.execute_reply": "2024-07-07T11:20:57.718795Z",
     "shell.execute_reply.started": "2024-07-07T11:20:55.807366Z"
    },
    "tags": []
   },
   "outputs": [
    {
     "data": {
      "text/plain": [
       "\"<pad> Yes, even if you don't register, you're still eligible to submit the homeworks. Be aware, however, that there will be deadlines for turning in the final projects. So don't leave everything for the last minute.</s>\""
      ]
     },
     "execution_count": 12,
     "metadata": {},
     "output_type": "execute_result"
    }
   ],
   "source": [
    "rag(\"I just discovered the course, can I still register?\")"
   ]
  },
  {
   "cell_type": "code",
   "execution_count": 13,
   "metadata": {
    "execution": {
     "iopub.execute_input": "2024-07-07T11:21:00.408429Z",
     "iopub.status.busy": "2024-07-07T11:21:00.408065Z",
     "iopub.status.idle": "2024-07-07T11:21:00.412597Z",
     "shell.execute_reply": "2024-07-07T11:21:00.411788Z",
     "shell.execute_reply.started": "2024-07-07T11:21:00.408404Z"
    },
    "tags": []
   },
   "outputs": [
    {
     "name": "stdout",
     "output_type": "stream",
     "text": [
      "Default max_length: 20\n"
     ]
    }
   ],
   "source": [
    "print(f\"Default max_length: {model.config.max_length}\")"
   ]
  },
  {
   "cell_type": "markdown",
   "metadata": {},
   "source": [
    "## 2.4 Phi 3 Mini\n",
    "- Not a lot of notes to take here\n",
    "- We just replaced the FLAN T5 implementation in the previous section with the Microsoft Phi 3 Mini implementation:\n",
    "    - You can find that model here: https://huggingface.co/microsoft/Phi-3-mini-128k-instruct\n",
    "- I'm not going to bother reproducing all the same code for the Phi3 model and will instead focus on the next section using Mistral7B"
   ]
  },
  {
   "attachments": {
    "17aa4de0-5f3c-4d93-b353-8e62b4ae7691.png": {
     "image/png": "[encoded data removed]"
    }
   },
   "cell_type": "markdown",
   "metadata": {},
   "source": [
    "## 2.5 Mistral-7B and HuggingFace Hub Authentication\n",
    "- For this lesson, we'll be using this model from HuggingFace: https://huggingface.co/mistralai/Mistral-7B-v0.1https://huggingface.co/mistralai/Mistral-7B-v0.1\n",
    "- The documentation there is pretty sparse, but luckily HuggingFace's own \"generation with LLM's\" tutorial page uses this model in its example: https://huggingface.co/docs/transformers/en/llm_tutorialhttps://huggingface.co/docs/transformers/en/llm_tutorial\n",
    "    - One of the things you'll encounter on HuggingFace are models that are gated: ![image.png](attachment:17aa4de0-5f3c-4d93-b353-8e62b4ae7691.png)\n",
    "    - In order to have access to these models, you need authenticate your account by creating an access token on HuggingFace and adding it as an environment variable wherever you need to use it\n",
    "    - Thankfully, in section 2.1 above, I had already created an access token on HuggingFace and added it as an environment variable here in SaturnCloud as `HF_TOKEN`\n",
    "    - To login using that token, you would do this use a function from `huggingface_hub` and pass it the token\n",
    "    - One thing to make sure of is that you have all the right permissions for the respective HuggingFace repo where the model is stored. To do this, select the access token and edit its permissions"
   ]
  },
  {
   "cell_type": "code",
   "execution_count": 3,
   "metadata": {
    "execution": {
     "iopub.execute_input": "2024-07-08T01:00:01.340805Z",
     "iopub.status.busy": "2024-07-08T01:00:01.340444Z",
     "iopub.status.idle": "2024-07-08T01:00:01.445495Z",
     "shell.execute_reply": "2024-07-08T01:00:01.444850Z",
     "shell.execute_reply.started": "2024-07-08T01:00:01.340781Z"
    },
    "tags": []
   },
   "outputs": [],
   "source": [
    "from huggingface_hub import login"
   ]
  },
  {
   "cell_type": "code",
   "execution_count": 5,
   "metadata": {
    "execution": {
     "iopub.execute_input": "2024-07-08T01:00:11.454779Z",
     "iopub.status.busy": "2024-07-08T01:00:11.454402Z",
     "iopub.status.idle": "2024-07-08T01:00:11.611669Z",
     "shell.execute_reply": "2024-07-08T01:00:11.610930Z",
     "shell.execute_reply.started": "2024-07-08T01:00:11.454755Z"
    },
    "tags": []
   },
   "outputs": [
    {
     "name": "stdout",
     "output_type": "stream",
     "text": [
      "The token has not been saved to the git credentials helper. Pass `add_to_git_credential=True` in this function directly or `--add-to-git-credential` if using via `huggingface-cli` if you want to set the git credential as well.\n",
      "Token is valid (permission: fineGrained).\n",
      "Your token has been saved to /run/cache/token\n",
      "Login successful\n"
     ]
    }
   ],
   "source": [
    "login(token = os.environ['HF_TOKEN'])"
   ]
  },
  {
   "cell_type": "markdown",
   "metadata": {},
   "source": [
    "### And now we can dump in all the code needed to use the Mistral7B model"
   ]
  },
  {
   "cell_type": "code",
   "execution_count": 6,
   "metadata": {
    "execution": {
     "iopub.execute_input": "2024-07-08T01:00:14.218974Z",
     "iopub.status.busy": "2024-07-08T01:00:14.218605Z",
     "iopub.status.idle": "2024-07-08T01:00:15.786929Z",
     "shell.execute_reply": "2024-07-08T01:00:15.786249Z",
     "shell.execute_reply.started": "2024-07-08T01:00:14.218949Z"
    },
    "tags": []
   },
   "outputs": [],
   "source": [
    "from transformers import AutoModelForCausalLM\n",
    "from transformers import AutoTokenizer"
   ]
  },
  {
   "cell_type": "code",
   "execution_count": 7,
   "metadata": {
    "execution": {
     "iopub.execute_input": "2024-07-08T01:00:15.788756Z",
     "iopub.status.busy": "2024-07-08T01:00:15.788317Z",
     "iopub.status.idle": "2024-07-08T01:03:46.617399Z",
     "shell.execute_reply": "2024-07-08T01:03:46.616619Z",
     "shell.execute_reply.started": "2024-07-08T01:00:15.788728Z"
    },
    "tags": []
   },
   "outputs": [
    {
     "data": {
      "application/vnd.jupyter.widget-view+json": {
       "model_id": "d4c918605ddf4cc387f0e7cbbb212758",
       "version_major": 2,
       "version_minor": 0
      },
      "text/plain": [
       "config.json:   0%|          | 0.00/571 [00:00<?, ?B/s]"
      ]
     },
     "metadata": {},
     "output_type": "display_data"
    },
    {
     "name": "stderr",
     "output_type": "stream",
     "text": [
      "The `load_in_4bit` and `load_in_8bit` arguments are deprecated and will be removed in the future versions. Please, pass a `BitsAndBytesConfig` object in `quantization_config` argument instead.\n"
     ]
    },
    {
     "data": {
      "application/vnd.jupyter.widget-view+json": {
       "model_id": "f147a594d4b640eabc8079b4e75dd5f2",
       "version_major": 2,
       "version_minor": 0
      },
      "text/plain": [
       "model.safetensors.index.json:   0%|          | 0.00/25.1k [00:00<?, ?B/s]"
      ]
     },
     "metadata": {},
     "output_type": "display_data"
    },
    {
     "data": {
      "application/vnd.jupyter.widget-view+json": {
       "model_id": "dad32c6704c14d40a8745e9db8919fa4",
       "version_major": 2,
       "version_minor": 0
      },
      "text/plain": [
       "Downloading shards:   0%|          | 0/2 [00:00<?, ?it/s]"
      ]
     },
     "metadata": {},
     "output_type": "display_data"
    },
    {
     "data": {
      "application/vnd.jupyter.widget-view+json": {
       "model_id": "3de557c0eff24777a8e70b580cc3d99c",
       "version_major": 2,
       "version_minor": 0
      },
      "text/plain": [
       "model-00001-of-00002.safetensors:   0%|          | 0.00/9.94G [00:00<?, ?B/s]"
      ]
     },
     "metadata": {},
     "output_type": "display_data"
    },
    {
     "data": {
      "application/vnd.jupyter.widget-view+json": {
       "model_id": "e1f3fc1f048b4c72bbe4df93067e95ec",
       "version_major": 2,
       "version_minor": 0
      },
      "text/plain": [
       "model-00002-of-00002.safetensors:   0%|          | 0.00/4.54G [00:00<?, ?B/s]"
      ]
     },
     "metadata": {},
     "output_type": "display_data"
    },
    {
     "data": {
      "application/vnd.jupyter.widget-view+json": {
       "model_id": "d01530f1dd1241bcad072dff9f661167",
       "version_major": 2,
       "version_minor": 0
      },
      "text/plain": [
       "Loading checkpoint shards:   0%|          | 0/2 [00:00<?, ?it/s]"
      ]
     },
     "metadata": {},
     "output_type": "display_data"
    },
    {
     "data": {
      "application/vnd.jupyter.widget-view+json": {
       "model_id": "6cb39653889c44409c4c897b7130f065",
       "version_major": 2,
       "version_minor": 0
      },
      "text/plain": [
       "generation_config.json:   0%|          | 0.00/116 [00:00<?, ?B/s]"
      ]
     },
     "metadata": {},
     "output_type": "display_data"
    },
    {
     "data": {
      "application/vnd.jupyter.widget-view+json": {
       "model_id": "1b8e0b7d9a684e5f9038b109d68728ef",
       "version_major": 2,
       "version_minor": 0
      },
      "text/plain": [
       "tokenizer_config.json:   0%|          | 0.00/996 [00:00<?, ?B/s]"
      ]
     },
     "metadata": {},
     "output_type": "display_data"
    },
    {
     "data": {
      "application/vnd.jupyter.widget-view+json": {
       "model_id": "909e2e9be8e94e0b90e5d2726f6b33f1",
       "version_major": 2,
       "version_minor": 0
      },
      "text/plain": [
       "tokenizer.model:   0%|          | 0.00/493k [00:00<?, ?B/s]"
      ]
     },
     "metadata": {},
     "output_type": "display_data"
    },
    {
     "data": {
      "application/vnd.jupyter.widget-view+json": {
       "model_id": "ae8e14d501304f319dc7a3342b467c52",
       "version_major": 2,
       "version_minor": 0
      },
      "text/plain": [
       "tokenizer.json:   0%|          | 0.00/1.80M [00:00<?, ?B/s]"
      ]
     },
     "metadata": {},
     "output_type": "display_data"
    },
    {
     "data": {
      "application/vnd.jupyter.widget-view+json": {
       "model_id": "97b2a615dd5946e9bbdfce31f667c026",
       "version_major": 2,
       "version_minor": 0
      },
      "text/plain": [
       "special_tokens_map.json:   0%|          | 0.00/414 [00:00<?, ?B/s]"
      ]
     },
     "metadata": {},
     "output_type": "display_data"
    }
   ],
   "source": [
    "model = AutoModelForCausalLM.from_pretrained(\n",
    "    \"mistralai/Mistral-7B-v0.1\", device_map=\"auto\", load_in_4bit=True\n",
    ")\n",
    "\n",
    "tokenizer = AutoTokenizer.from_pretrained(\"mistralai/Mistral-7B-v0.1\", padding_side=\"left\")"
   ]
  },
  {
   "cell_type": "markdown",
   "metadata": {},
   "source": [
    "### Now to use the model to generate an output, we use the following code\n",
    "\n",
    "```python\n",
    "# create the inputs\n",
    "model_inputs = tokenizer(['A list of colours: blue, red, pink'], return_tensors=\"pt\").to(\"cuda\")\n",
    "\n",
    "generated_ids = model.generate(**model_inputs)\n",
    "tokenizer.batch_decode(generated_ids, skip_special_tokens=True)[0]\n",
    "```"
   ]
  },
  {
   "cell_type": "markdown",
   "metadata": {},
   "source": [
    "### But, before we do that, we're going to have to make some modifications to our RAG in order to ensure this model works effectively\n",
    "1. Use the `pipeline` function from HuggingFace's `tranformers` library to abstract how we use this model\n",
    "    - I don't know exactly what magic happens under `pipeline`'s hood, but it seems to be aware of particular models complex needs\n",
    "    - So instead of using the `tokenizer` and `model.generate` above, we first create a `generator` object using `pipeline`:\n",
    "    ```python\n",
    "    generator = pipeline(\"text-generation\", model = model, tokenizer = tokenizer\n",
    "    ```\n",
    "    - Then in the llm function, we use `generator` to generate our output\n",
    "2. This model is a completion model, so it passes the whole context back to you. Which means it's highly sensitive to the context you pass it. So, we're going to need to simplify the context\n",
    "3. Another thing we'll need to do is limit the responses we get back from our search engine as that too is part of the context we pass it\n",
    "- When using the actual model, we're going to have to pass some parameters to ensure we get good results:\n",
    "    - `max_length`: Make this big but not too big :/\n",
    "    - `temperature`: Adjust the temperature to less than 1.0 to reduce randomness\n",
    "    - `top_p`: Implements nucleus sampling, which chooses from the smallest set of tokens whose cumulative probability exceeds p.\n",
    "    - `num_return_sequences`: Indicates that only one sequence should be returned.\n",
    "4. Filter the output to exclude the initial prompt"
   ]
  },
  {
   "cell_type": "code",
   "execution_count": 10,
   "metadata": {
    "execution": {
     "iopub.execute_input": "2024-07-08T01:24:33.415699Z",
     "iopub.status.busy": "2024-07-08T01:24:33.415298Z",
     "iopub.status.idle": "2024-07-08T01:24:33.419754Z",
     "shell.execute_reply": "2024-07-08T01:24:33.418916Z",
     "shell.execute_reply.started": "2024-07-08T01:24:33.415674Z"
    },
    "tags": []
   },
   "outputs": [],
   "source": [
    "# Return only 3 results this time\n",
    "def search(query):\n",
    "    boost = {'question': 3.0, 'section': 0.5}\n",
    "\n",
    "    results = index.search(\n",
    "        query=query,\n",
    "        filter_dict={'course': 'data-engineering-zoomcamp'},\n",
    "        boost_dict=boost,\n",
    "        num_results=3\n",
    "    )\n",
    "\n",
    "    return results"
   ]
  },
  {
   "cell_type": "code",
   "execution_count": 11,
   "metadata": {
    "execution": {
     "iopub.execute_input": "2024-07-08T01:27:04.039049Z",
     "iopub.status.busy": "2024-07-08T01:27:04.038612Z",
     "iopub.status.idle": "2024-07-08T01:27:05.210747Z",
     "shell.execute_reply": "2024-07-08T01:27:05.210145Z",
     "shell.execute_reply.started": "2024-07-08T01:27:04.039023Z"
    },
    "tags": []
   },
   "outputs": [],
   "source": [
    "# Use the pipeline method to abstract our usage of Mistral7B\n",
    "from transformers import pipeline\n",
    "generator = pipeline(\"text-generation\", model=model, tokenizer=tokenizer)"
   ]
  },
  {
   "cell_type": "code",
   "execution_count": 12,
   "metadata": {
    "execution": {
     "iopub.execute_input": "2024-07-08T01:27:10.288881Z",
     "iopub.status.busy": "2024-07-08T01:27:10.288495Z",
     "iopub.status.idle": "2024-07-08T01:27:10.293686Z",
     "shell.execute_reply": "2024-07-08T01:27:10.292920Z",
     "shell.execute_reply.started": "2024-07-08T01:27:10.288856Z"
    },
    "tags": []
   },
   "outputs": [],
   "source": [
    "# Finally, change the way the prompt is constructed:\n",
    "\n",
    "def build_prompt(query, search_results):\n",
    "    prompt_template = \"\"\"\n",
    "QUESTION: {question}\n",
    "\n",
    "CONTEXT:\n",
    "{context}\n",
    "\n",
    "ANSWER:\n",
    "\"\"\".strip()\n",
    "\n",
    "    context = \"\"\n",
    "    \n",
    "    for doc in search_results:\n",
    "        context = context + f\"{doc['question']}\\n{doc['text']}\\n\\n\"\n",
    "    \n",
    "    prompt = prompt_template.format(question=query, context=context).strip()\n",
    "    return prompt\n",
    "\n",
    "def llm(prompt):\n",
    "    response = generator(prompt, max_length=500, temperature=0.7, top_p=0.95, num_return_sequences=1)\n",
    "    response_final = response[0]['generated_text']\n",
    "    return response_final[len(prompt):].strip()"
   ]
  },
  {
   "cell_type": "code",
   "execution_count": 15,
   "metadata": {
    "execution": {
     "iopub.execute_input": "2024-07-08T01:28:30.353821Z",
     "iopub.status.busy": "2024-07-08T01:28:30.353435Z",
     "iopub.status.idle": "2024-07-08T01:28:47.784296Z",
     "shell.execute_reply": "2024-07-08T01:28:47.783461Z",
     "shell.execute_reply.started": "2024-07-08T01:28:30.353793Z"
    },
    "tags": []
   },
   "outputs": [
    {
     "name": "stderr",
     "output_type": "stream",
     "text": [
      "Truncation was not explicitly activated but `max_length` is provided a specific value, please use `truncation=True` to explicitly truncate examples to max length. Defaulting to 'longest_first' truncation strategy. If you encode pairs of sequences (GLUE-style) with the tokenizer you can select this strategy more precisely by providing a specific strategy to `truncation`.\n",
      "/opt/saturncloud/envs/saturn/lib/python3.9/site-packages/transformers/generation/configuration_utils.py:540: UserWarning: `do_sample` is set to `False`. However, `temperature` is set to `0.7` -- this flag is only used in sample-based generation modes. You should set `do_sample=True` or unset `temperature`.\n",
      "  warnings.warn(\n",
      "/opt/saturncloud/envs/saturn/lib/python3.9/site-packages/transformers/generation/configuration_utils.py:545: UserWarning: `do_sample` is set to `False`. However, `top_p` is set to `0.95` -- this flag is only used in sample-based generation modes. You should set `do_sample=True` or unset `top_p`.\n",
      "  warnings.warn(\n",
      "Setting `pad_token_id` to `eos_token_id`:2 for open-end generation.\n",
      "/opt/saturncloud/envs/saturn/lib/python3.9/site-packages/bitsandbytes/nn/modules.py:426: UserWarning: Input type into Linear4bit is torch.float16, but bnb_4bit_compute_dtype=torch.float32 (default). This will lead to slow inference or training speed.\n",
      "  warnings.warn(\n"
     ]
    },
    {
     "data": {
      "text/plain": [
       "'Yes, you can still join the course.'"
      ]
     },
     "execution_count": 15,
     "metadata": {},
     "output_type": "execute_result"
    }
   ],
   "source": [
    "rag(\"I just discovered the course. Can I still join it?\")"
   ]
  },
  {
   "cell_type": "markdown",
   "metadata": {},
   "source": [
    "And lastly, if we want to download these model weights to use them without having to authenticate with HuggingFace everytime, we can do so with the following:"
   ]
  },
  {
   "cell_type": "code",
   "execution_count": null,
   "metadata": {},
   "outputs": [],
   "source": [
    "from transformers import AutoModelForCausalLM, AutoTokenizer\n",
    "\n",
    "model_name = \"mistralai/Mistral-7B-v0.1\"\n",
    "\n",
    "# Download and cache the model and tokenizer\n",
    "model = AutoModelForCausalLM.from_pretrained(model_name)\n",
    "tokenizer = AutoTokenizer.from_pretrained(model_name)\n",
    "\n",
    "# Save the model and tokenizer locally\n",
    "model.save_pretrained(\"./mistral-7b-model\")\n",
    "tokenizer.save_pretrained(\"./mistral-7b-tokenizer\")"
   ]
  },
  {
   "cell_type": "markdown",
   "metadata": {},
   "source": [
    "And if we already have the model weights downloaded locally, we can load them without having to use HuggingFace like this:"
   ]
  },
  {
   "cell_type": "code",
   "execution_count": null,
   "metadata": {},
   "outputs": [],
   "source": [
    "from transformers import AutoModelForCausalLM, AutoTokenizer\n",
    "\n",
    "model_dir = \"./mistral-7b-model\"\n",
    "tokenizer_dir = \"./mistral-7b-tokenizer\"\n",
    "\n",
    "# Load the model and tokenizer from the local directory\n",
    "model = AutoModelForCausalLM.from_pretrained(model_dir)\n",
    "tokenizer = AutoTokenizer.from_pretrained(tokenizer_dir)"
   ]
  },
  {
   "cell_type": "markdown",
   "metadata": {},
   "source": [
    "## 2.6 Exploring Open Source LLMs\n",
    "- Not a whole lot of note taking here\n",
    "- This lesson was just showcasing where to find other open source LLMs\n",
    "- I think the crux of it is that you're always looking to pair the highest quality model with the hardware limitations of your machine\n",
    "    - So the rule of thumb for us here is that a 7B - 9B parameter model generally fits within a 16G RAM GPU"
   ]
  },
  {
   "cell_type": "markdown",
   "metadata": {},
   "source": [
    "## 2.7 Running LLMs Locally without a GPU with Ollama\n",
    "- Now we start to use tools like [ollama](https://ollama.com/) to run models locally, with or without a GPU\n",
    "- "
   ]
  }
 ],
 "metadata": {
  "kernelspec": {
   "display_name": "saturn (Python 3)",
   "language": "python",
   "name": "python3"
  },
  "language_info": {
   "codemirror_mode": {
    "name": "ipython",
    "version": 3
   },
   "file_extension": ".py",
   "mimetype": "text/x-python",
   "name": "python",
   "nbconvert_exporter": "python",
   "pygments_lexer": "ipython3",
   "version": "3.10.13"
  }
 },
 "nbformat": 4,
 "nbformat_minor": 4
}
